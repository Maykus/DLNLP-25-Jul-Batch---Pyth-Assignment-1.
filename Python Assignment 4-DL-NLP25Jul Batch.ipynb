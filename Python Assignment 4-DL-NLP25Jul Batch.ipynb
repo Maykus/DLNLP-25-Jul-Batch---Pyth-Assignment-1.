{
 "cells": [
  {
   "cell_type": "markdown",
   "metadata": {},
   "source": [
    "1.1 Write a Python Program(with class concepts) to find the area of the triangle using the below \n",
    "formula. \n",
    "\n",
    " \n",
    "\n",
    "area = (s*(s-a)*(s-b)*(s-c)) ** 0.5 \n",
    "\n",
    " \n",
    "\n",
    "Function to take the length of the sides of triangle from user should be defined in the parent \n",
    "class and function to calculate the area should be defined in subclass."
   ]
  },
  {
   "cell_type": "code",
   "execution_count": 47,
   "metadata": {},
   "outputs": [],
   "source": [
    "class triangle:\n",
    "    def __init__ (self,a,b,c):\n",
    "        self.a = a\n",
    "        self.b = b\n",
    "        self.c = c\n",
    "class Area(triangle):\n",
    "    def t_Area(self):\n",
    "        s = (self.a+self.b+self.c)*0.5\n",
    "        Area = (s*(s-self.a)*(s-self.b)*(s-self.c))**0.5\n",
    "        return Area\n",
    "\n",
    "\n",
    "\n",
    "        \n",
    "        "
   ]
  },
  {
   "cell_type": "code",
   "execution_count": 55,
   "metadata": {},
   "outputs": [
    {
     "name": "stdout",
     "output_type": "stream",
     "text": [
      "enter 1st side : 4\n",
      "enter 2nd side : 5\n",
      "enter 3rd side : 6\n",
      "9.921567416492215\n"
     ]
    }
   ],
   "source": [
    "a = int(input('enter 1st side : '))\n",
    "b = int(input('enter 2nd side : '))\n",
    "c = int(input('enter 3rd side : '))\n",
    "\n",
    "Z= Area(a,b,c)\n",
    "Y = Z.t_Area()\n",
    "\n",
    "print(Y)"
   ]
  },
  {
   "cell_type": "markdown",
   "metadata": {},
   "source": [
    "1.2 Write a function filter_long_words() that takes a list of words and an integer n and returns \n",
    "the list of words that are longer than n."
   ]
  },
  {
   "cell_type": "code",
   "execution_count": 15,
   "metadata": {},
   "outputs": [],
   "source": [
    "def filter_long_words(list,n):\n",
    "    a = input('Enter a sentence :')\n",
    "    l = a.split()\n",
    "    m = []\n",
    "    for i in list:\n",
    "        if len(i)>=n:\n",
    "            m.append(i)\n",
    "    print(m)       "
   ]
  },
  {
   "cell_type": "code",
   "execution_count": 19,
   "metadata": {},
   "outputs": [
    {
     "name": "stdout",
     "output_type": "stream",
     "text": [
      "Enter a sentence :Hi how are you doing?\n",
      "['doing?']\n"
     ]
    }
   ],
   "source": [
    "filter_long_words(l,4)"
   ]
  },
  {
   "cell_type": "markdown",
   "metadata": {},
   "source": [
    "2.1 Write a Python program using function concept that maps list of words into a list of integers \n",
    "representing the lengths of the corresponding words. \n",
    "\n",
    " \n",
    "\n",
    "Hint: If a list [ ab,cde,erty] is passed on to the python function output should come as [2,3,4] \n",
    "\n",
    " \n",
    "\n",
    "Here 2,3 and 4 are the lengths of the words in the list. "
   ]
  },
  {
   "cell_type": "code",
   "execution_count": 22,
   "metadata": {},
   "outputs": [],
   "source": [
    "def word_to_len():\n",
    "    a = input('Enter a desired Sentence : ')\n",
    "    list = a.split()\n",
    "    m = []\n",
    "    for i in list:\n",
    "        m.append(len(i))\n",
    "    print('length of words in your sentence is : ', m)\n",
    "        "
   ]
  },
  {
   "cell_type": "code",
   "execution_count": 23,
   "metadata": {},
   "outputs": [
    {
     "name": "stdout",
     "output_type": "stream",
     "text": [
      "Enter a desired Sentence : Mayuresh is a word class batsman\n",
      "length of words in your sentence is :  [8, 2, 1, 4, 5, 7]\n"
     ]
    }
   ],
   "source": [
    "word_to_len()"
   ]
  },
  {
   "cell_type": "markdown",
   "metadata": {},
   "source": [
    "2.2 Write a Python function which takes a character (i.e. a string of length 1) and returns True if \n",
    "it is a vowel, False otherwise. "
   ]
  },
  {
   "cell_type": "code",
   "execution_count": 35,
   "metadata": {},
   "outputs": [],
   "source": [
    "vowel = ['a','e','i','o','u','A','E','I','O','U']\n",
    "def char_chk_vowel():\n",
    "    a = input( 'Enter your desired vowel : ')\n",
    "    for i in vowel:\n",
    "        if i==a:\n",
    "            return True\n",
    "            break\n",
    "    else:\n",
    "        return False"
   ]
  },
  {
   "cell_type": "code",
   "execution_count": 37,
   "metadata": {},
   "outputs": [
    {
     "name": "stdout",
     "output_type": "stream",
     "text": [
      "Enter your desired vowel : d\n"
     ]
    },
    {
     "data": {
      "text/plain": [
       "False"
      ]
     },
     "execution_count": 37,
     "metadata": {},
     "output_type": "execute_result"
    }
   ],
   "source": [
    "char_chk_vowel()"
   ]
  }
 ],
 "metadata": {
  "kernelspec": {
   "display_name": "Python 3",
   "language": "python",
   "name": "python3"
  },
  "language_info": {
   "codemirror_mode": {
    "name": "ipython",
    "version": 3
   },
   "file_extension": ".py",
   "mimetype": "text/x-python",
   "name": "python",
   "nbconvert_exporter": "python",
   "pygments_lexer": "ipython3",
   "version": "3.7.4"
  }
 },
 "nbformat": 4,
 "nbformat_minor": 2
}
